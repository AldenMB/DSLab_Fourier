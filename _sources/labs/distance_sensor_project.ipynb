{
 "cells": [
  {
   "cell_type": "code",
   "execution_count": null,
   "id": "f60b1637-80ae-47ea-912c-b99ff2513f39",
   "metadata": {},
   "outputs": [],
   "source": []
  },
  {
   "cell_type": "markdown",
   "id": "aeac5df6-91ce-48d2-b485-d35e70c7d77d",
   "metadata": {},
   "source": [
    "# Week 4: Build a Theremin\n",
    "\n",
    "<font size=\"6\"> Laboratory ? </font> <br>\n",
    "<font size=\"3\"> Last updated July 26, 2022 </font>"
   ]
  },
  {
   "cell_type": "markdown",
   "id": "01726903-3f36-40d6-bd16-3fcb176fd339",
   "metadata": {},
   "source": [
    "## <span style=\"color:orange;\"> 00. Content </span>\n",
    "\n",
    "### Mathematics \n",
    "- Fundamental period of a Fourier series\n",
    "- Fourier series coefficients\n",
    " \n",
    "### Programming Skills \n",
    "- Type here\n",
    "    \n",
    "### Embedded Systems \n",
    "- Ultrasonic sensor\n",
    "\n",
    "## <span style=\"color:orange;\"> 0. Required Hardware </span>\n",
    "- Type here"
   ]
  },
  {
   "cell_type": "markdown",
   "id": "55ae8202-a20b-42b8-b315-faa97360a321",
   "metadata": {},
   "source": [
    "<h3 style=\"background-color:lightblue\"> Write your name and email below: </h3>\n",
    "\n",
    "**Name:** me \n",
    "\n",
    "**Email:** me @purdue.edu"
   ]
  },
  {
   "cell_type": "code",
   "execution_count": null,
   "id": "95b00438-4508-4d4e-aaf2-8688909d73f7",
   "metadata": {},
   "outputs": [],
   "source": [
    "import numpy as np\n",
    "import matplotlib.pyplot as plt"
   ]
  },
  {
   "cell_type": "markdown",
   "id": "78c1a75f-901d-4cc8-88da-8374fe41b586",
   "metadata": {},
   "source": [
    "## <span style=\"color:orange;\"> 1. Intro </span>"
   ]
  },
  {
   "cell_type": "markdown",
   "id": "6e3927ed-922f-413b-827d-06b649750574",
   "metadata": {},
   "source": [
    "A theremin is a musical instrument that can be played without touching it. In this lab, we will build a theremin using an ultrasonic distance sensor. The distance sensor will be used to measure the distance to your hand; by moving your hand closer or futher from the instrument, you will be able to control the frequency of the note you are playing, as if you were moving your finger along the arm of a guitar while pinching the chord. "
   ]
  },
  {
   "cell_type": "code",
   "execution_count": null,
   "id": "31fcafaf-6b8f-40c4-b9fb-949058fa6f18",
   "metadata": {},
   "outputs": [],
   "source": []
  }
 ],
 "metadata": {
  "kernelspec": {
   "display_name": "Python 3",
   "language": "python",
   "name": "python3"
  },
  "language_info": {
   "codemirror_mode": {
    "name": "ipython",
    "version": 3
   },
   "file_extension": ".py",
   "mimetype": "text/x-python",
   "name": "python",
   "nbconvert_exporter": "python",
   "pygments_lexer": "ipython3",
   "version": "3.8.8"
  }
 },
 "nbformat": 4,
 "nbformat_minor": 5
}
