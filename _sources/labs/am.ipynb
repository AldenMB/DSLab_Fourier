{
 "cells": [
  {
   "cell_type": "markdown",
   "id": "2ea9fafa-555c-4c04-bc6a-1e9da6ec6c3b",
   "metadata": {},
   "source": [
    "# Week 6: Beats and Tremolo Effects \n",
    "\n",
    "<font size=\"6\"> Laboratory ? </font> <br>\n",
    "<font size=\"3\"> Last updated August 1, 2022 </font>"
   ]
  },
  {
   "cell_type": "markdown",
   "id": "78a0c3ce-2459-4c5c-a060-2f04541d6235",
   "metadata": {},
   "source": [
    "## <span style=\"color:orange;\"> 00. Content </span>\n",
    "\n",
    "### Mathematics \n",
    "- Laws of sines/cosines\n",
    "    \n",
    "### Programming Skills \n",
    "- Type here\n",
    "    \n",
    "### Embedded Systems \n",
    "- Type here\n",
    "\n",
    "## <span style=\"color:orange;\"> 0. Required Hardware </span>\n",
    "- Type here"
   ]
  },
  {
   "cell_type": "markdown",
   "id": "2625002a-cd73-492d-9bb2-da6a7fd048e6",
   "metadata": {},
   "source": [
    "<h3 style=\"background-color:lightblue\"> Write your name and email below: </h3>\n",
    "\n",
    "**Name:** me \n",
    "\n",
    "**Email:** me @purdue.edu"
   ]
  },
  {
   "cell_type": "code",
   "execution_count": 7,
   "id": "4f15c739-1b47-45e4-9e95-9df04c4e4124",
   "metadata": {},
   "outputs": [],
   "source": [
    "import numpy as np"
   ]
  },
  {
   "cell_type": "markdown",
   "id": "5098e476-3355-4800-afd7-50a37ecb4e88",
   "metadata": {},
   "source": [
    "# <span style=\"color:orange;\"> 1. Introduction to Amplitude Modulation </span>  "
   ]
  },
  {
   "cell_type": "markdown",
   "id": "527bceb0-191e-42b2-9990-4e2f41f631d7",
   "metadata": {},
   "source": [
    "Amplitude modulation is the process of multiplying a CT signal by a periodic signal $c(t)$ called a carrier. \n",
    "If the signal is denoted by $x(t)$, then the modulated signal $y(t)$ is given by \n",
    "\n",
    "$$y(t)=x(t)c(t).$$\n",
    "\n",
    "For example, we can modulate a signal $x(t)$ using a cosine carrier $c(t)=\\cos (2 \\pi f_0 t) $ with frequency $f_0$. Then the modulated signal $y(t)$ is given by\n",
    "\n",
    "$$ y(t)=x(t) \\cos (2 \\pi f_0 t) .$$"
   ]
  },
  {
   "cell_type": "markdown",
   "id": "4de2df2a-c2be-4633-9d31-494df18c64cd",
   "metadata": {},
   "source": [
    "As you may have learned in the companion course, amplitude modulation is essentially used to shift frequencies. This is because of the multiplication property of the Fourier transform/series. We will come back to the idea of shifting frequencies at the end of this lab. But first, let us explore a fun and intuitive effect that can be created with amplitude modulation: the tremolo effect.  "
   ]
  },
  {
   "cell_type": "markdown",
   "id": "5704a83f-1fa9-4ed5-8535-6b8c6e5bb6a3",
   "metadata": {},
   "source": [
    "# <span style=\"color:orange;\">  2. The Tremolo Effect </span> "
   ]
  },
  {
   "cell_type": "markdown",
   "id": "e15e6e41-edc9-4c47-9d4c-672ac27bf262",
   "metadata": {},
   "source": [
    "When the frequency of the carrier $c(t)$ is low, more specifically when it is below the audible range (the audible range is about 20Hz to 20KHz), then modulation creates a \"tremolo\" effect\" on the original signal. This is something you can hear if $x(t)$ is an audio signal. It sounds like one is turning the volume up and down, periodically. Let's try it out!"
   ]
  },
  {
   "cell_type": "markdown",
   "id": "5fe67fde-21b9-4ad6-9efb-d85b568314d3",
   "metadata": {},
   "source": [
    "## Modulation with Sine Wave Exercises "
   ]
  },
  {
   "cell_type": "markdown",
   "id": "72a4086d-c765-43f1-857d-1250bf318e89",
   "metadata": {},
   "source": [
    "Exercise 1: Let $x(t)= \\sin 2 \\pi 440 t$ (this is a middle A). Play it. Now consider the carrier $c(t)=\\cos (2 \\pi f_0 t )$ with $f_0=2 Hz$. Play the modulated sound $y(t)= x(t) c(t).$"
   ]
  },
  {
   "cell_type": "code",
   "execution_count": null,
   "id": "8598ad5b-8cca-487a-9ff9-4a58ab42b749",
   "metadata": {},
   "outputs": [],
   "source": []
  },
  {
   "cell_type": "markdown",
   "id": "f18a0db8-6d2b-4e21-a1f3-f90ad8b203f9",
   "metadata": {},
   "source": [
    "Exercise 2: Change the frequency $f_0$. Compare what happens when the frequency is very low (<20Hz) and when it is very high (20-20kHZ)."
   ]
  },
  {
   "cell_type": "code",
   "execution_count": null,
   "id": "5d4477d6-e5b3-4b1b-b865-f1e4584f560b",
   "metadata": {},
   "outputs": [],
   "source": []
  },
  {
   "cell_type": "markdown",
   "id": "3d90c785-6daa-4f46-96d3-cb0962259e1f",
   "metadata": {},
   "source": [
    "Exercise 3:  Record your voice, and modulate it with $c(t)=\\cos (2 \\pi f_0 t )$ "
   ]
  },
  {
   "cell_type": "code",
   "execution_count": null,
   "id": "89a0d3eb-da4b-40ff-b17b-2d49d2c23fb5",
   "metadata": {},
   "outputs": [],
   "source": []
  },
  {
   "cell_type": "markdown",
   "id": "ad380e02-fd3a-4b00-9780-79df1d6802c7",
   "metadata": {},
   "source": [
    "## Modulation with Triangular Wave Exercises "
   ]
  },
  {
   "cell_type": "markdown",
   "id": "8d906246-779c-491f-8e47-b25492b84925",
   "metadata": {},
   "source": [
    "Exercise 4: Create a periodic triangular wave with frequency of 3 Hz. The area of each triangle should be equal to one. Play the triangular wave. Change the triagular wave frequency and play the resulting modulated sound. "
   ]
  },
  {
   "cell_type": "code",
   "execution_count": null,
   "id": "7f84baa9-a4dc-4c28-bf5d-b2483ccc0d24",
   "metadata": {},
   "outputs": [],
   "source": []
  },
  {
   "cell_type": "markdown",
   "id": "e3a23510-3d47-448e-bf26-9d2ca3a11c18",
   "metadata": {},
   "source": [
    "Exercise 5: Modulate a middle A with the triangular wave you created in the previous exercise. Play the modulated sound. Change the triagular wave frequency and play the resulting modulated sound. Compare what happens when the frequency is very low (<20Hz) and when it is very high (20-20kHZ)."
   ]
  },
  {
   "cell_type": "code",
   "execution_count": null,
   "id": "32be704f-5b13-4b4b-9fef-86e14cc12ec9",
   "metadata": {},
   "outputs": [],
   "source": []
  },
  {
   "cell_type": "markdown",
   "id": "5bc67b16-8131-4ee2-a473-81ea95f8ac89",
   "metadata": {},
   "source": [
    "Exercise 6: Modulate the sound of your voise with the triangular wave and play the modulated sound Change the triagular wave frequency and play the resulting modulated sound. Compare what happens when the frequency is very low (<20Hz) and when it is very high (20-20kHZ)."
   ]
  },
  {
   "cell_type": "code",
   "execution_count": null,
   "id": "ef5a1973-2295-4a74-bff2-5d8c3c359fa1",
   "metadata": {},
   "outputs": [],
   "source": []
  },
  {
   "cell_type": "markdown",
   "id": "f3a093cf-efaa-4a80-bace-a4cdfc1d44c4",
   "metadata": {},
   "source": [
    "## Modulation with Square Wave Exercises"
   ]
  },
  {
   "cell_type": "markdown",
   "id": "abc64acb-61da-42a7-b457-395dcce9a87a",
   "metadata": {},
   "source": [
    "Exercise 7: Create a periodic square wave with frequency of 3 Hz. The square should occupy half of the period. Play the square wave."
   ]
  },
  {
   "cell_type": "code",
   "execution_count": null,
   "id": "acabc6f9-53c4-4011-8ddc-71b1b81eba2a",
   "metadata": {},
   "outputs": [],
   "source": []
  },
  {
   "cell_type": "markdown",
   "id": "3008c1d7-34b4-4d71-8375-56f0c61ef921",
   "metadata": {},
   "source": [
    "Exercise 8: Modulate a middle A with the square wave you created in the previous exercise. Play the modulated sound."
   ]
  },
  {
   "cell_type": "code",
   "execution_count": null,
   "id": "83339223-2363-452c-bd31-d12359396604",
   "metadata": {},
   "outputs": [],
   "source": []
  },
  {
   "cell_type": "markdown",
   "id": "c3b7a199-0c61-4e8f-8fff-655898730154",
   "metadata": {},
   "source": [
    "Exercise 9: Modulate the sound of your voise with the square wave and play the modulated sound."
   ]
  },
  {
   "cell_type": "code",
   "execution_count": null,
   "id": "c5ef1b11-d4cc-4c8b-a7cf-c6488edfb9a2",
   "metadata": {},
   "outputs": [],
   "source": []
  },
  {
   "cell_type": "markdown",
   "id": "de1de444-243b-48b8-a599-1259b8ab7046",
   "metadata": {},
   "source": [
    "## Create your own modulation effect"
   ]
  },
  {
   "cell_type": "markdown",
   "id": "f8e95607-014d-456a-8fc8-8154e9ae82e6",
   "metadata": {},
   "source": [
    "Exercise 10: Create the signal $x(t$ a recording of you saying \"B'Euler up!\". "
   ]
  },
  {
   "cell_type": "code",
   "execution_count": null,
   "id": "4d1b84b6-ad8c-49c9-9533-b465835489c1",
   "metadata": {},
   "outputs": [],
   "source": []
  },
  {
   "cell_type": "markdown",
   "id": "836d1975-3c49-4e4c-b1c9-44c93040e1ad",
   "metadata": {},
   "source": [
    "Exercise 11: Create an original periodic signal $c_1(t)$. Use it to modulate $x(t$ and play the resulting modulated signal. "
   ]
  },
  {
   "cell_type": "code",
   "execution_count": null,
   "id": "5e6ac83d-7de8-4805-b3c9-1a05d52cab31",
   "metadata": {},
   "outputs": [],
   "source": []
  },
  {
   "cell_type": "markdown",
   "id": "383460a8-6313-4f9f-89ae-7a38ad918063",
   "metadata": {},
   "source": [
    "Exercise 12: Create another original periodic signal  $c_2(t)$ with the same frequency as  $c_1(t)$. Use it to modulate $x(t$ and play the resulting modulated signal. "
   ]
  },
  {
   "cell_type": "code",
   "execution_count": null,
   "id": "6a2ea341-8fe1-4a8f-aa60-7d35fadf545f",
   "metadata": {},
   "outputs": [],
   "source": []
  },
  {
   "cell_type": "markdown",
   "id": "db6802cd-a727-43ba-b70d-9268f354806c",
   "metadata": {},
   "source": [
    "Exercise 13: Play the signal $x(t) c_1(t) c_2(t)$. Describe that signal. "
   ]
  },
  {
   "cell_type": "code",
   "execution_count": null,
   "id": "ad248929-4545-4336-8ae3-84a2cdca282e",
   "metadata": {},
   "outputs": [],
   "source": []
  },
  {
   "cell_type": "markdown",
   "id": "eff60e65-699f-4e98-8621-4ea190a60045",
   "metadata": {},
   "source": [
    "Exercise 14: Play the signal $x(t) (c_1(t) + c_2(t)) $. Describe that signal. "
   ]
  },
  {
   "cell_type": "code",
   "execution_count": null,
   "id": "24a4c909-b19f-4d54-b33e-3989283dc747",
   "metadata": {},
   "outputs": [],
   "source": []
  },
  {
   "cell_type": "markdown",
   "id": "c759a65c-78d0-461e-b746-5f3d606fe750",
   "metadata": {},
   "source": [
    "# <span style=\"color:orange;\">  3. Beats </span> "
   ]
  },
  {
   "cell_type": "markdown",
   "id": "60f5fb75-8e64-4377-b6e1-af53ededed17",
   "metadata": {},
   "source": [
    "Now we will explore what happens when the carrier frequency is close to the signal frequency. "
   ]
  },
  {
   "cell_type": "markdown",
   "id": "7519d7b5-a32b-401d-9461-2c282b54bc81",
   "metadata": {},
   "source": [
    "Exercise 15: Consider the signal $x(t)= \\sin \\left( 2 \\pi 440 t \\right) $ (a middle A) and the carrier $c(t)=\\sin \\left( 2\\pi 442 t\\right)$. Play the modulated signal $y(t)=x(t) c(t)$. Describe what you hear: what is the difference between $x(t)$ and $y(t)$? Plot a few cycles of the original signal and compare with the modulated signal. Describe what you see."
   ]
  },
  {
   "cell_type": "code",
   "execution_count": null,
   "id": "24af7fac-d20b-408d-835a-88d8fc226163",
   "metadata": {},
   "outputs": [],
   "source": []
  },
  {
   "cell_type": "markdown",
   "id": "4ce0f199-9539-4aed-a06b-c6c34dbc8740",
   "metadata": {},
   "source": [
    "The phenomenon you just heard is called \"beats\" and is often used for tuning two instruments. The tuning procedure proceeds as follows: Both instruments play the same note and the players pay attention to the presence of beats in the resulting sound. As long as there are beats, they know that they are not \"in tune.\" They continue adjusting their instruments until there are no beats in the sound, at which point they are in tune."
   ]
  },
  {
   "cell_type": "markdown",
   "id": "86f692e7-696c-404f-a159-91f234074198",
   "metadata": {},
   "source": [
    "Exercise 16: Try it out! Let $x(t)= sin \\left( 2 \\pi 440 t \\right)$. Construct a  carried $c(t)= \\sin \\left( 2 \\pi f_0 (t) t\\right)$ be a carrier with frequency changing from 438HZ to 440HZ. Play the modulated signal. Are the beats present at the beginning? Do the beats disappear at the end ? What happens in between?  "
   ]
  },
  {
   "cell_type": "code",
   "execution_count": null,
   "id": "18a3b483-9b05-4cd1-9802-772df5e62b7e",
   "metadata": {},
   "outputs": [],
   "source": []
  },
  {
   "cell_type": "markdown",
   "id": "ef85dd2d-0083-4c2b-a047-d88202125c24",
   "metadata": {},
   "source": [
    "The mathematical explanation for this phenomenon lies in the following equality:\n",
    "\n",
    "$$ \\sin\\left(  2 \\pi f_1 \\right) \\sin \\left( 2 \\pi f_2 t \\right) = \\frac{1}{2}\\cos \\left( 2 \\pi \\frac{(f_1-f_2)}{2} t \\right) - \\frac{1}{2}\\cos \\ \\left( 2 \\pi \\frac{(f_1+f_2)}{2} t \\right).$$\n",
    "\n",
    "Thus the  "
   ]
  },
  {
   "cell_type": "markdown",
   "id": "621f5150-e701-468d-8cb6-d0638f6334c0",
   "metadata": {},
   "source": [
    "Exercise 16: Prove the above formula and explain how it relates to the beat phenomenon. Hint: Transform the sines into complex exponentials."
   ]
  },
  {
   "cell_type": "code",
   "execution_count": null,
   "id": "b4c8e3c3-51fa-4a8c-bdde-7b2a17a514e1",
   "metadata": {},
   "outputs": [],
   "source": []
  },
  {
   "cell_type": "markdown",
   "id": "a2cb51ea-c07a-4512-a38b-bd0a6a35a2ef",
   "metadata": {},
   "source": [
    "Exercise 17: Is it possible to use the beats to determine the difference between the frequencies $f_1$ and $f_2$ of the two sines? If so, how? If not, why not."
   ]
  },
  {
   "cell_type": "code",
   "execution_count": null,
   "id": "5b75f1b2-6918-4f12-9793-80aefbcfc603",
   "metadata": {},
   "outputs": [],
   "source": []
  },
  {
   "cell_type": "markdown",
   "id": "ba084e28-71cc-4742-b747-24a3e23b43a4",
   "metadata": {},
   "source": [
    "Exercise 18: Can one use this technique to tune two out-of-tune instruments so that they play an A at the 440Hz frequency?  If so, how? If not, explain why not. "
   ]
  },
  {
   "cell_type": "code",
   "execution_count": null,
   "id": "d8b3cd97-4610-47e6-aac0-2897a1f4c0b6",
   "metadata": {},
   "outputs": [],
   "source": []
  }
 ],
 "metadata": {
  "kernelspec": {
   "display_name": "Python 3",
   "language": "python",
   "name": "python3"
  },
  "language_info": {
   "codemirror_mode": {
    "name": "ipython",
    "version": 3
   },
   "file_extension": ".py",
   "mimetype": "text/x-python",
   "name": "python",
   "nbconvert_exporter": "python",
   "pygments_lexer": "ipython3",
   "version": "3.8.8"
  }
 },
 "nbformat": 4,
 "nbformat_minor": 5
}
