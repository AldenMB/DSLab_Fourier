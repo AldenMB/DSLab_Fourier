{
 "cells": [
  {
   "cell_type": "markdown",
   "id": "f493e0d9-7f70-4a75-8926-f8b54a4b80c1",
   "metadata": {},
   "source": [
    "2: Play a sum of sine and cosine waves with different coefficients. (What are the FS coefficients of sound you create).  Create your own sound (an entire scale). Play a song. \n",
    "\n",
    "Arduino: modify your piano to play more interesting sounds"
   ]
  }
 ],
 "metadata": {
  "kernelspec": {
   "display_name": "Python 3 (ipykernel)",
   "language": "python",
   "name": "python3"
  },
  "language_info": {
   "codemirror_mode": {
    "name": "ipython",
    "version": 3
   },
   "file_extension": ".py",
   "mimetype": "text/x-python",
   "name": "python",
   "nbconvert_exporter": "python",
   "pygments_lexer": "ipython3",
   "version": "3.10.4"
  }
 },
 "nbformat": 4,
 "nbformat_minor": 5
}
