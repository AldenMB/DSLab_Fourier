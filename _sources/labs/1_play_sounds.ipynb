{
 "cells": [
  {
   "cell_type": "markdown",
   "id": "820c502d-6263-4290-babd-c680aee54bf2",
   "metadata": {},
   "source": [
    "1: Play a pure cosine wave. Play the scale. Play a song. Observe that playing song twice as fast is faster AND higher pitch. (Fourier series properties)\n",
    "\n",
    "Arduino: make a little piano"
   ]
  },
  {
   "cell_type": "markdown",
   "id": "6a7d48ae-593b-40a5-b7d0-ad5f693d4182",
   "metadata": {},
   "source": [
    "# What is a sound?\n",
    "\n",
    "Your ears are pretty remarkable. They are very sensitive air pressure sensors. When your ears detect patterns in the change of air pressure, you hear that as a sound.\n",
    "\n",
    "Let's hear an example. If you have headphones, put them on now. Then, run the following cell and press play."
   ]
  },
  {
   "cell_type": "code",
   "execution_count": null,
   "id": "60744c3f-aef5-49d4-962f-c92b4c1f0afc",
   "metadata": {},
   "outputs": [],
   "source": [
    "import numpy as np\n",
    "from IPython.display import Audio\n",
    "\n",
    "t = np.linspace(0, 5, 5 * 44100)\n",
    "y = np.sin(440 * 2 * np.pi * t)\n",
    "\n",
    "Audio(y, rate=44100)"
   ]
  },
  {
   "cell_type": "markdown",
   "id": "aaba5da8-abc6-473e-88a6-9e2d9217cd6b",
   "metadata": {},
   "source": [
    "What did you just hear? Let's visualize it using a graph."
   ]
  },
  {
   "cell_type": "code",
   "execution_count": null,
   "id": "7a6fc62d-dbf9-4b80-ab80-2e46608c73e3",
   "metadata": {},
   "outputs": [],
   "source": [
    "import matplotlib.pyplot as plt\n",
    "import seaborn as sns\n",
    "\n",
    "sns.set()\n",
    "%matplotlib inline\n",
    "plt.rcParams[\"figure.figsize\"] = (8, 5)"
   ]
  },
  {
   "cell_type": "code",
   "execution_count": null,
   "id": "9ba371a9-136a-4921-8565-25c8eb3068bd",
   "metadata": {},
   "outputs": [],
   "source": [
    "fig, ax = plt.subplots()\n",
    "ax.plot(t, y)\n",
    "ax.set_xlim(0, 0.02)\n",
    "plt.show()"
   ]
  },
  {
   "cell_type": "markdown",
   "id": "7197682f-8629-41e4-b6fc-86fcccca6837",
   "metadata": {},
   "source": [
    "We can see that it is a sine wave with a frequency of 440 Hz. In music, the sound it makes is called `A`, or more specifically, `A4` or \"middle A\". When your ears detect air pressure changing in this pattern, you hear it as a middle A.\n",
    "\n",
    "Let's inspect the code we just used a bit more carefully. We gave the function `Audio` two parameters, `y` and `rate`. What's in `y`?"
   ]
  },
  {
   "cell_type": "code",
   "execution_count": null,
   "id": "83071a09-efc6-464d-8714-1406d54b5910",
   "metadata": {},
   "outputs": [],
   "source": [
    "y[:10]"
   ]
  },
  {
   "cell_type": "markdown",
   "id": "5cdbed8a-17e7-4e48-9b12-4a7a0ee63874",
   "metadata": {},
   "source": [
    "It's a list of numbers showing the air pressure at various times. The scale of the y-axis is arbitrary -- your computer re-scales it to make an appropriate volume before playing the sound. The parameter `rate` simply says how often to read a new number from the list. Most digital audio equipment is set up to read 44100 numbers per second, so that's the rate we are using.\n",
    "\n",
    "## A more complicated sound\n",
    "\n",
    "The example above is quite simple, but you can actually make almost any sound this way. Let's load up a more complicated sound and have a look at it."
   ]
  },
  {
   "cell_type": "code",
   "execution_count": null,
   "id": "eca5d7a1-f5c6-4187-a967-c796ed1fc0db",
   "metadata": {},
   "outputs": [],
   "source": [
    "mystery_sound = np.loadtxt(\"mystery_sound.txt\")\n",
    "fig, ax = plt.subplots()\n",
    "ax.plot(mystery_sound)\n",
    "ax.set_xlim(1000, 2000)\n",
    "ax.set_ylim(-2000, 2000)\n",
    "plt.show()"
   ]
  },
  {
   "cell_type": "markdown",
   "id": "0f87d5a8-7384-4055-8a80-e6be94e71ebc",
   "metadata": {},
   "source": [
    "The curve it makes is not just a sine wave. What does it sound like? \n",
    "\n",
    "### Exercise\n",
    "\n",
    "Use the `Audio` command to play this sound. Then, after listening to it, write down the name of the tune that plays."
   ]
  },
  {
   "cell_type": "code",
   "execution_count": null,
   "id": "9a70f07e-be51-4619-be76-02a2fd609706",
   "metadata": {},
   "outputs": [],
   "source": []
  },
  {
   "cell_type": "markdown",
   "id": "425aeabe-8b94-4cd7-882a-4142725e7230",
   "metadata": {},
   "source": [
    "# Making sounds\n",
    "\n",
    "Now that you see a sound can be expressed as a list of numbers, let's set about making our own music. We will need a way to make musical notes. To do that, we will use the **chromatic scale**. In the chromatic scale, twelve notes make up an octave and their frequencies are evenly spaced. These are the notes made by piano keys."
   ]
  },
  {
   "cell_type": "code",
   "execution_count": null,
   "id": "0e5f5365-f0cc-4917-aa79-979bbc69f9a2",
   "metadata": {},
   "outputs": [],
   "source": [
    "t = np.linspace(0, 0.5, 44100 // 2)\n",
    "notes = \"A A# B C C# D D# E F F# G G#\"\n",
    "frequencies = 440 * 2 ** (np.arange(12) / 12)\n",
    "scale = dict(zip(notes.split(), frequencies))\n",
    "for note, frequency in scale.items():\n",
    "    print(\"-\" * 20)\n",
    "    print(f\"Middle {note} has the frequency {frequency:.2f}\")\n",
    "    fig, ax = plt.subplots()\n",
    "    y = np.sin(2 * np.pi * frequency * t)\n",
    "    ax.plot(t, y)\n",
    "    ax.set_xlim(0, 0.02)\n",
    "    plt.show()\n",
    "    display(Audio(y, rate=44100))"
   ]
  },
  {
   "cell_type": "markdown",
   "id": "555470ef-0fc1-4547-b471-b926f340f949",
   "metadata": {},
   "source": [
    "# Making Music\n",
    "\n",
    "By stringing these together, we can form a song. We will use the function `np.concatenate` which stacks up arrays end-to-end. Here is the start of \"Row Row Your Boat\"."
   ]
  },
  {
   "cell_type": "code",
   "execution_count": null,
   "id": "4ec76336-8ef3-427b-8aad-f979edfcac5d",
   "metadata": {},
   "outputs": [],
   "source": [
    "boat_notes = \"C C C D E E D E F G\"\n",
    "boat_song = np.concatenate(\n",
    "    [np.sin(2 * np.pi * scale[note] * t) for note in boat_notes.split()]\n",
    ")\n",
    "print(boat_song[:10])\n",
    "Audio(boat_song, rate=44100)"
   ]
  },
  {
   "cell_type": "markdown",
   "id": "72c88780-30af-4ef7-84fa-6c866c619ee9",
   "metadata": {},
   "source": [
    "What if we only play every other number? Let's try it with slicing."
   ]
  },
  {
   "cell_type": "code",
   "execution_count": null,
   "id": "f7cecf6f-dfc2-415d-a1f0-1a1bddde4719",
   "metadata": {},
   "outputs": [],
   "source": [
    "faster = boat_song[::2]\n",
    "print(faster[:10])\n",
    "Audio(faster, rate=44100)"
   ]
  },
  {
   "cell_type": "markdown",
   "id": "bb20ed6b-5444-441e-82b6-aff95839ec32",
   "metadata": {},
   "source": [
    "Now let's try dragging the notes out longer by repeating each number twice."
   ]
  },
  {
   "cell_type": "code",
   "execution_count": null,
   "id": "26d33ac3-4f58-402e-9b0c-cdde8c4b017e",
   "metadata": {},
   "outputs": [],
   "source": [
    "slower = np.repeat(boat_song, 2)\n",
    "print(slower[:10])\n",
    "Audio(slower, rate=44100)"
   ]
  },
  {
   "cell_type": "markdown",
   "id": "e2925418-0a56-4393-998a-a16b199f36d9",
   "metadata": {},
   "source": [
    "When we play it back faster, the song has a higher pitch but lasts half as long. When we play it back slower the song has a lower pitch and lasts twice as long. Most people find that the song is still recognizably the same when the pitch is doubled or halved, so we give a note with twice or one-half the frequency the same letter. Here is a wider scale we can use:"
   ]
  },
  {
   "cell_type": "code",
   "execution_count": null,
   "id": "3eb7fb24-b471-4e38-9fb5-bb9936847b8c",
   "metadata": {},
   "outputs": [],
   "source": [
    "full_scale = {}\n",
    "for i in range(1, 7):\n",
    "    for j, letter in enumerate(notes.split()):\n",
    "        full_scale[letter + str(i)] = 440 * 2 ** (i - 4 + j / 12)\n",
    "full_scale"
   ]
  },
  {
   "cell_type": "markdown",
   "id": "4ee1eb9c-ac99-47ea-bf0c-c05e0929278d",
   "metadata": {},
   "source": [
    "### Exercise\n",
    "\n",
    "Here are the notes for the chorus of Hail Purdue. Play the song!\n",
    "```\n",
    "D#3 D#3 F3 G3 G#3 A#4 C4 C4 C#4 C#4 G#3 A#4 C4 C4 C4\n",
    "```\n"
   ]
  },
  {
   "cell_type": "markdown",
   "id": "debc7452-31e0-4f9e-8f14-224aaab6b46d",
   "metadata": {},
   "source": [
    "### Exercise\n",
    "\n",
    "Musicians often speed up or slow down their music for an artistic effect. The file `chipmunk.txt` has an excerpt from The Chipmunk Song by Ross Bagdasarian. Make a slowed-down version so you can hear what he sounded like while recording the voices of the chipmunks.\n",
    "\n",
    "``` https://madmusic.com/samples/a/l/Alvin_+_The_Chipmunks_-_Chipmunk_Song_(Christmas_Don't_Be_Late).mp3\n",
    "```"
   ]
  },
  {
   "cell_type": "code",
   "execution_count": null,
   "id": "47b99864-b2ef-48c1-86e8-49167db828ac",
   "metadata": {},
   "outputs": [],
   "source": [
    "chipmunk = np.loadtxt(\"chipmunk.txt\")\n",
    "Audio(chipmunk, rate=44100)"
   ]
  },
  {
   "cell_type": "code",
   "execution_count": null,
   "id": "2b0730a3-d7e1-4247-9089-0f681c35f0c5",
   "metadata": {},
   "outputs": [],
   "source": []
  }
 ],
 "metadata": {
  "kernelspec": {
   "display_name": "Python 3 (ipykernel)",
   "language": "python",
   "name": "python3"
  },
  "language_info": {
   "codemirror_mode": {
    "name": "ipython",
    "version": 3
   },
   "file_extension": ".py",
   "mimetype": "text/x-python",
   "name": "python",
   "nbconvert_exporter": "python",
   "pygments_lexer": "ipython3",
   "version": "3.10.4"
  }
 },
 "nbformat": 4,
 "nbformat_minor": 5
}
