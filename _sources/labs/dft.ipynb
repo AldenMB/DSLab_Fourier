{
 "cells": [
  {
   "cell_type": "markdown",
   "id": "5af5bf76-eeba-48b3-ac6e-489f4fc6ca9c",
   "metadata": {},
   "source": [
    "# Week 7: Different Types of Loops\n",
    "\n",
    "<font size=\"6\"> Laboratory 6 </font> <br>\n",
    "<font size=\"3\"> Last updated July 22, 2022 </font>"
   ]
  },
  {
   "cell_type": "markdown",
   "id": "0d3551c5-166a-4757-b099-e36be5551b02",
   "metadata": {},
   "source": [
    "## <span style=\"color:orange;\"> 00. Content </span>\n",
    "\n",
    "<font size=\"5\"> Mathematics </font>\n",
    "- Type here\n",
    "    \n",
    "<font size=\"5\"> Programming Skills </font>\n",
    "- Type here\n",
    "    \n",
    "<font size=\"5\"> Embedded Systems </font>\n",
    "- Type here\n",
    "\n",
    "## <span style=\"color:orange;\"> 0. Required Hardware </span>\n",
    "- Type here"
   ]
  },
  {
   "cell_type": "markdown",
   "id": "e1e8e33e-141c-4ba0-b7b2-d721bdc3edc8",
   "metadata": {},
   "source": [
    "<h3 style=\"background-color:lightblue\"> Write your name and email below: </h3>\n",
    "\n",
    "**Name:** me \n",
    "\n",
    "**Email:** me @purdue.edu"
   ]
  },
  {
   "cell_type": "code",
   "execution_count": null,
   "id": "d81382e4-4bee-4285-87e4-4a32631e794f",
   "metadata": {},
   "outputs": [],
   "source": [
    "import numpy as np\n",
    "import matplotlib.pyplot as plt\n",
    "import cv2"
   ]
  },
  {
   "cell_type": "markdown",
   "id": "004e4038-3e35-441a-9388-ca2417648ad3",
   "metadata": {},
   "source": []
  }
 ],
 "metadata": {
  "kernelspec": {
   "display_name": "Python 3 (ipykernel)",
   "language": "python",
   "name": "python3"
  },
  "language_info": {
   "codemirror_mode": {
    "name": "ipython",
    "version": 3
   },
   "file_extension": ".py",
   "mimetype": "text/x-python",
   "name": "python",
   "nbconvert_exporter": "python",
   "pygments_lexer": "ipython3",
   "version": "3.10.4"
  }
 },
 "nbformat": 4,
 "nbformat_minor": 5
}
