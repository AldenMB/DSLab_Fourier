{
 "cells": [
  {
   "cell_type": "markdown",
   "id": "5af5bf76-eeba-48b3-ac6e-489f4fc6ca9c",
   "metadata": {},
   "source": [
    "# Week 9: Sampled Signal Analysis with the DFT\n",
    "\n",
    "<font size=\"6\"> Laboratory ? </font> <br>\n",
    "<font size=\"3\"> Last updated July 26, 2022 </font>"
   ]
  },
  {
   "cell_type": "markdown",
   "id": "0d3551c5-166a-4757-b099-e36be5551b02",
   "metadata": {},
   "source": [
    "## <span style=\"color:orange;\"> 00. Content </span>\n",
    "\n",
    "### Mathematics \n",
    "- Type here\n",
    "    \n",
    "### Programming Skills \n",
    "- Type here\n",
    "    \n",
    "### Embedded Systems \n",
    "- Type here\n",
    "\n",
    "## <span style=\"color:orange;\"> 0. Required Hardware </span>\n",
    "- Type here"
   ]
  },
  {
   "cell_type": "markdown",
   "id": "e1e8e33e-141c-4ba0-b7b2-d721bdc3edc8",
   "metadata": {},
   "source": [
    "<h3 style=\"background-color:lightblue\"> Write your name and email below: </h3>\n",
    "\n",
    "**Name:** me \n",
    "\n",
    "**Email:** me @purdue.edu"
   ]
  },
  {
   "cell_type": "code",
   "execution_count": null,
   "id": "d81382e4-4bee-4285-87e4-4a32631e794f",
   "metadata": {},
   "outputs": [],
   "source": [
    "import numpy as np\n",
    "import matplotlib.pyplot as plt"
   ]
  },
  {
   "cell_type": "markdown",
   "id": "004e4038-3e35-441a-9388-ca2417648ad3",
   "metadata": {},
   "source": [
    "## <span style=\"color:orange;\"> 1. Intro </span>"
   ]
  },
  {
   "cell_type": "markdown",
   "id": "5857505d-44b8-47d9-991e-414491827618",
   "metadata": {},
   "source": [
    "The signals we acquire in real-life have a finite duration. "
   ]
  },
  {
   "cell_type": "markdown",
   "id": "e2da3189-d994-4b18-a28e-47ed44ceae07",
   "metadata": {},
   "source": [
    "In order to analyze a finite duration signal, we first repeat it periodically with a period P (P must be at least as long as the duration of the signal. It could be greater, in which case there would be \"zeros\" padded between the repetitions)"
   ]
  },
  {
   "cell_type": "markdown",
   "id": "dc0a2606-9069-49db-bfbe-af452a0aa9a7",
   "metadata": {},
   "source": [
    "We assume that the repeated signal is such that it is equal to its Fourier series $$f(t)= \\frac{a_0}{2}+ \\sum_{k=1}^\\infty a_k \\cos \\left(\\frac{2 \\pi}{P} k t \\right) + b_k \\sin \\left(\\frac{2 \\pi}{P} k t  \\right).$$"
   ]
  },
  {
   "cell_type": "markdown",
   "id": "64336d40-b2fd-47b0-bcf7-0e9fd4199913",
   "metadata": {},
   "source": [
    "We are interested in analyzing the signal $f(t)$ given a digital recording of the signal. In particular, we would like to be able to find the values of the coefficients $a_k,b_k$ using the uniform sampling $ f_d[n]=f(nT)$, where $T$ is the sampling period. (The samples are equally spread out.)  \n",
    "  \n",
    "MAYBE WE CAN SKIP THIS? Observe that $f_d[n]= f(n T)$ is periodic with (integer) period $N$ if an only if $\\frac{P}{T}=\\frac{N}{K}$ is a rational number. For example, if $T=\\frac{P}{N}$, then we acquire $N$ samples per period, and $f_d[n]$ is periodic with period $N$. Similarly, if $T=\\frac{2 P}{N}$, then we acquire $N$ samples per two periods, and so $\\frac{N}{2}$ samples per period. If $N$ is odd, then the period of  $f_d[n]$ is $N$ (it has to be an integer). If $N$ is even, then the period of $f_d[n]$ is $\\frac{N}{2}$."
   ]
  },
  {
   "cell_type": "markdown",
   "id": "3f0566e3-fd5f-428b-92ed-0a04333cad08",
   "metadata": {},
   "source": [
    "In order to simplify the math, we rewrite $f(t)$ in terms of complex exponentials: $$ f(t)=  \\sum_{k=-\\infty}^\\infty c_n e^{i \\frac{2\\pi}{P}kt} $$ where $ c_0=\\frac{a_0}{2} $ and $c_n=c_{-n}^*=\\frac{1}{2} (a_n- i b_n)$,  for $n>1$. "
   ]
  },
  {
   "cell_type": "markdown",
   "id": "aa5c319d-901a-43fd-b5f1-17de35fd316e",
   "metadata": {},
   "source": [
    "Exercise: Derive the above formula. (Hint: replace each sine and cosine by a sum of complex exponential. If you do not know the sums already, find them using Euler's formula. B'Euler up! )"
   ]
  },
  {
   "cell_type": "markdown",
   "id": "740a99b6-8710-45ca-8103-1c210ce9983c",
   "metadata": {},
   "source": [
    "We will recover the $a_k,b_k$ using the DFT= Discrete Fourier Transform. Here is the formula for the DFT  coefficient of a sampled signal $f_d[n]$ with period $N$:\n",
    "$$ F[k]= \\sum_{n=0}^{N-1} f_d[n] e^{-i \\frac{2 \\pi}{N} k n }  $$\n",
    "We call $F[k]$ the {\\em $k^{th}$ coefficient} of the DFT of $f_d[n]$.  "
   ]
  },
  {
   "cell_type": "markdown",
   "id": "cd74ca12-0dc1-48d3-9360-a5633303b10e",
   "metadata": {},
   "source": [
    "As we will see later, in some circumstances, namely if\n",
    "\n",
    "1)the Fourier series of $f(t)$ is finite, that is to say $c_k=0$ for all $k>N_0$, and \n",
    "2) $N$ is large enough,\n",
    "\n",
    "then we have $F[k]= N c_k$, for all  $0\\leq k \\leq N_0$. Therefore, in those circumstances, one can recover the Fourier series coefficients of $f(t)$ from the DFT coefficients."
   ]
  },
  {
   "cell_type": "markdown",
   "id": "27792374-326d-4c3c-85c8-7819dfd3630d",
   "metadata": {},
   "source": [
    "## <span style=\"color:orange;\"> 2. First Example </span>"
   ]
  },
  {
   "cell_type": "markdown",
   "id": "4d00fd5a-3e4a-4cf4-8699-0571559e865f",
   "metadata": {},
   "source": [
    "## <span style=\"color:orange;\"> 3. Second Example </span>"
   ]
  },
  {
   "cell_type": "markdown",
   "id": "e6266b31-c54d-4e8b-9b8e-d587e9164c6b",
   "metadata": {},
   "source": [
    "## <span style=\"color:orange;\"> 4. The Theory </span>"
   ]
  },
  {
   "cell_type": "code",
   "execution_count": null,
   "id": "ccf90b99-aa64-4698-9e07-2801cb9b173c",
   "metadata": {},
   "outputs": [],
   "source": []
  }
 ],
 "metadata": {
  "kernelspec": {
   "display_name": "Python 3",
   "language": "python",
   "name": "python3"
  },
  "language_info": {
   "codemirror_mode": {
    "name": "ipython",
    "version": 3
   },
   "file_extension": ".py",
   "mimetype": "text/x-python",
   "name": "python",
   "nbconvert_exporter": "python",
   "pygments_lexer": "ipython3",
   "version": "3.8.8"
  }
 },
 "nbformat": 4,
 "nbformat_minor": 5
}
