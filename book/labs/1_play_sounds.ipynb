{
 "cells": [
  {
   "cell_type": "markdown",
   "id": "820c502d-6263-4290-babd-c680aee54bf2",
   "metadata": {},
   "source": [
    "1: Play a pure cosine wave. Play the scale. Play a song. Observe that playing song twice as fast is faster AND higher pitch. (Fourier series properties)\n",
    "\n",
    "Arduino: make a little piano"
   ]
  }
 ],
 "metadata": {
  "kernelspec": {
   "display_name": "Python 3 (ipykernel)",
   "language": "python",
   "name": "python3"
  },
  "language_info": {
   "codemirror_mode": {
    "name": "ipython",
    "version": 3
   },
   "file_extension": ".py",
   "mimetype": "text/x-python",
   "name": "python",
   "nbconvert_exporter": "python",
   "pygments_lexer": "ipython3",
   "version": "3.10.4"
  }
 },
 "nbformat": 4,
 "nbformat_minor": 5
}
