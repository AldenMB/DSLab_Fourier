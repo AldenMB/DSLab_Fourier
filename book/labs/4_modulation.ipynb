{
 "cells": [
  {
   "cell_type": "markdown",
   "id": "f413e33b-6092-40e7-af7a-cf952eb8837d",
   "metadata": {},
   "source": [
    "4: Amplitude modulation: tremolo effect (low frequency modulation) ring effect (modulation with high frequency signal), modulation with triangular wave? Other waves?"
   ]
  }
 ],
 "metadata": {
  "kernelspec": {
   "display_name": "Python 3 (ipykernel)",
   "language": "python",
   "name": "python3"
  },
  "language_info": {
   "codemirror_mode": {
    "name": "ipython",
    "version": 3
   },
   "file_extension": ".py",
   "mimetype": "text/x-python",
   "name": "python",
   "nbconvert_exporter": "python",
   "pygments_lexer": "ipython3",
   "version": "3.10.4"
  }
 },
 "nbformat": 4,
 "nbformat_minor": 5
}
