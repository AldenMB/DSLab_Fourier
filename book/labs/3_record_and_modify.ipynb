{
 "cells": [
  {
   "cell_type": "markdown",
   "id": "d68bf487-9134-49b7-bb5a-c7f80e816274",
   "metadata": {},
   "source": [
    "3: record voice, scale time to create higher pitch; play a song.\n",
    "\n",
    "Arduino: modify your piano to use your voice"
   ]
  }
 ],
 "metadata": {
  "kernelspec": {
   "display_name": "Python 3 (ipykernel)",
   "language": "python",
   "name": "python3"
  },
  "language_info": {
   "codemirror_mode": {
    "name": "ipython",
    "version": 3
   },
   "file_extension": ".py",
   "mimetype": "text/x-python",
   "name": "python",
   "nbconvert_exporter": "python",
   "pygments_lexer": "ipython3",
   "version": "3.10.4"
  }
 },
 "nbformat": 4,
 "nbformat_minor": 5
}
