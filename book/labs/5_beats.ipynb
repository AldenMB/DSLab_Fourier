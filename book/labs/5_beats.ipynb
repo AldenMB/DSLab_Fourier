{
 "cells": [
  {
   "cell_type": "markdown",
   "id": "a8f1fff6-f2b3-4345-8b41-51141ea49f5b",
   "metadata": {},
   "source": [
    "5: Beats: add two cosine waves with close frequency (tuning), write as product (see it’s a modulation)\n",
    "\n",
    "\n",
    "Arduino project: voice tremolo effect or more general voice modifier (e.g. https://www.instructables.com/Dalek-Voice-Changer-Arduino-Shield/) "
   ]
  }
 ],
 "metadata": {
  "kernelspec": {
   "display_name": "Python 3 (ipykernel)",
   "language": "python",
   "name": "python3"
  },
  "language_info": {
   "codemirror_mode": {
    "name": "ipython",
    "version": 3
   },
   "file_extension": ".py",
   "mimetype": "text/x-python",
   "name": "python",
   "nbconvert_exporter": "python",
   "pygments_lexer": "ipython3",
   "version": "3.10.4"
  }
 },
 "nbformat": 4,
 "nbformat_minor": 5
}
