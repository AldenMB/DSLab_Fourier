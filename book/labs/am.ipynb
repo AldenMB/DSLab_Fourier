{
 "cells": [
  {
   "cell_type": "markdown",
   "id": "2ea9fafa-555c-4c04-bc6a-1e9da6ec6c3b",
   "metadata": {},
   "source": [
    "# Week ?: Beats and Tremolo Effects \n",
    "\n",
    "<font size=\"6\"> Laboratory ? </font> <br>\n",
    "<font size=\"3\"> Last updated July 25, 2022 </font>"
   ]
  },
  {
   "cell_type": "markdown",
   "id": "78a0c3ce-2459-4c5c-a060-2f04541d6235",
   "metadata": {},
   "source": [
    "## <span style=\"color:orange;\"> 00. Content </span>\n",
    "\n",
    "<font size=\"5\"> Mathematics </font>\n",
    "- Laws of sines/cosines\n",
    "    \n",
    "<font size=\"5\"> Programming Skills </font>\n",
    "- Type here\n",
    "    \n",
    "<font size=\"5\"> Embedded Systems </font>\n",
    "- Type here\n",
    "\n",
    "## <span style=\"color:orange;\"> 0. Required Hardware </span>\n",
    "- Type here"
   ]
  },
  {
   "cell_type": "markdown",
   "id": "2625002a-cd73-492d-9bb2-da6a7fd048e6",
   "metadata": {},
   "source": [
    "<h3 style=\"background-color:lightblue\"> Write your name and email below: </h3>\n",
    "\n",
    "**Name:** me \n",
    "\n",
    "**Email:** me @purdue.edu"
   ]
  },
  {
   "cell_type": "code",
   "execution_count": null,
   "id": "4f15c739-1b47-45e4-9e95-9df04c4e4124",
   "metadata": {},
   "outputs": [],
   "source": [
    "import numpy as np\n",
    "import matplotlib.pyplot as plt\n",
    "import cv2"
   ]
  },
  {
   "cell_type": "markdown",
   "id": "5098e476-3355-4800-afd7-50a37ecb4e88",
   "metadata": {},
   "source": [
    "# Introduction to Amplitude Modulation "
   ]
  },
  {
   "cell_type": "markdown",
   "id": "527bceb0-191e-42b2-9990-4e2f41f631d7",
   "metadata": {},
   "source": [
    "Amplitude modulation is the process of multiplying a CT signal by a periodic signal $c(t)$ called a carrier. \n",
    "If the signal is denoted by $x(t)$, then the modulated signal $y(t)$ is given by $$y(t)=x(t)c(t).$$\n",
    "For example, we can modulate a signal $x(t)$ using a cosine carrier $c(t)=\\cos (2 \\pi f_0 t) $ with frequency $f_0$. Then the modulated signal $y(t)$ is given by\n",
    "$$ y(t)=x(t) \\cos (2 \\pi f_0 t) .$$"
   ]
  },
  {
   "cell_type": "markdown",
   "id": "5704a83f-1fa9-4ed5-8535-6b8c6e5bb6a3",
   "metadata": {},
   "source": [
    "# The Tremolo Effect "
   ]
  },
  {
   "cell_type": "markdown",
   "id": "e15e6e41-edc9-4c47-9d4c-672ac27bf262",
   "metadata": {},
   "source": [
    "When the frequency of the carrier is low, more specifically when it is below the audible range (audible range is about 20Hz to 20KHz), then modulation creates a \"tremolo\" effect\" on the original signal. This is something you can hear if $x(t)$ is an audio signal. It sounds like one is turning the volume up and down, periodically. Let's try it out!"
   ]
  },
  {
   "cell_type": "markdown",
   "id": "5fe67fde-21b9-4ad6-9efb-d85b568314d3",
   "metadata": {},
   "source": [
    "<font size=\"5\"> Modulation with Sine wave Exercises </font>\n",
    "\n",
    "Exercise: Let $x(t)= \\sin 2 \\pi 440 t$ (this is a middle A). Play it. Now consider the carrier $c(t)=\\cos (2 \\pi f_0 t )$ with $f_0=2 Hz$. Play the modulated sound $y(t)= x(t) c(t).$"
   ]
  },
  {
   "cell_type": "markdown",
   "id": "f18a0db8-6d2b-4e21-a1f3-f90ad8b203f9",
   "metadata": {},
   "source": [
    "Exercise: Change the frequency $f_0$. Compare what happens when the frequency is very low (<20Hz) and when it is very high (20-20kHZ)."
   ]
  },
  {
   "cell_type": "markdown",
   "id": "3d90c785-6daa-4f46-96d3-cb0962259e1f",
   "metadata": {},
   "source": [
    "Exercise:  Record your voice, and modulate it with $c(t)=\\cos (2 \\pi f_0 t )$ "
   ]
  },
  {
   "cell_type": "markdown",
   "id": "ad380e02-fd3a-4b00-9780-79df1d6802c7",
   "metadata": {},
   "source": [
    "<font size=\"5\"> Modulation with triangular wave Exercises </font>\n",
    "\n",
    "Exercise: Create a periodic triangular wave with frequency of 3 Hz. The area of each triangle should be equal to one. Play the triangular wave. Change the triagular wave frequency and play the resulting modulated sound. \n",
    "\n",
    "Exercise: Modulate a middle A with the triangular wave you created in the previous exercise. Play the modulated sound. Change the triagular wave frequency and play the resulting modulated sound. Compare what happens when the frequency is very low (<20Hz) and when it is very high (20-20kHZ).\n",
    "\n",
    "Exercise: Modulate the sound of your voise with the triangular wave and play the modulated sound Change the triagular wave frequency and play the resulting modulated sound. Compare what happens when the frequency is very low (<20Hz) and when it is very high (20-20kHZ)."
   ]
  },
  {
   "cell_type": "markdown",
   "id": "f3a093cf-efaa-4a80-bace-a4cdfc1d44c4",
   "metadata": {},
   "source": [
    "<font size=\"5\"> Modulation with Square wave Exercises </font>\n",
    "\n",
    "Exercise: Create a periodic square wave with frequency of 3 Hz. The square should occupy half of the period. Play the square wave. \n",
    "\n",
    "Exercise: Modulate a middle A with the square wave you created in the previous exercise. Play the modulated sound.\n",
    "\n",
    "Exercise: Modulate the sound of your voise with the square wave and play the modulated sound."
   ]
  },
  {
   "cell_type": "markdown",
   "id": "de1de444-243b-48b8-a599-1259b8ab7046",
   "metadata": {},
   "source": [
    "<font size=\"5\"> Create your own modulation effect </font>\n",
    "\n",
    "Exercise: Create the signal $x(t$ a recording of you saying \"B'Euler up!\". \n",
    "\n",
    "Exercise: Create an original periodic signal $c_1(t)$. Use it to modulate $x(t$ and play the resulting modulated signal. \n",
    "\n",
    "Exercise: Create another original periodic signal  $c_2(t)$ with the same frequency as  $c_1(t)$. Use it to modulate $x(t$ and play the resulting modulated signal. \n",
    "\n",
    "Exercise: Play the signal $x(t) c_1(t) c_2(t)$. Describe that signal. \n",
    "\n",
    "Exercise: Play the signal $x(t) (c_1(t) + c_2(t)) $. Describe that signal. "
   ]
  },
  {
   "cell_type": "markdown",
   "id": "c759a65c-78d0-461e-b746-5f3d606fe750",
   "metadata": {},
   "source": [
    " # Beats"
   ]
  },
  {
   "cell_type": "markdown",
   "id": "60f5fb75-8e64-4377-b6e1-af53ededed17",
   "metadata": {},
   "source": [
    "Now we will explore what happens when the carrier frequency is close to the signal frequency. "
   ]
  },
  {
   "cell_type": "markdown",
   "id": "7519d7b5-a32b-401d-9461-2c282b54bc81",
   "metadata": {},
   "source": [
    "Exercise: Consider the signal $x(t)= \\sin 2 \\pi 440 t $ (a middle A) and the carrier $c(t)=\\sin 2\\pi 442 t$. PLay the modulated signal $y(t)=x(t) c(t)$. Describe what you hear: what is the difference between $x(t)$ and $y(t)$? "
   ]
  },
  {
   "cell_type": "markdown",
   "id": "4ce0f199-9539-4aed-a06b-c6c34dbc8740",
   "metadata": {},
   "source": [
    "The phenomenon you just heard is called \"beats\" and is often used for tuning two instruments. Both instruments play the same note and the players pay attention to the presence of beats in the resulting sound. As long as there are beats, they know that they are not \"in tune.\" They continue adjusting their instruments until there are no beats in the sound, at which point they are in tune."
   ]
  },
  {
   "cell_type": "markdown",
   "id": "86f692e7-696c-404f-a159-91f234074198",
   "metadata": {},
   "source": [
    "Exercise: Try it out! Let $x(t)= sin 2 \\pi 440 t$. Construct a  carried $c(t)= \\sin 2 \\pi f_0 (t) t$ be a carrier with frequency changing from 438HZ to 440HZ. Play the modulated signal. Are the beats present at the beginning? Do the beats disappear at the end ? What happens in between?  "
   ]
  },
  {
   "cell_type": "markdown",
   "id": "ef85dd2d-0083-4c2b-a047-d88202125c24",
   "metadata": {},
   "source": [
    "The mathematical explanation for this phenomenon lies in the following equality:\n",
    "$$ sin 2 \\pi f_1 sin 2 \\pi f_2 = sin 2 \\pi \\frac{(f_1+f_2)}{2}+ sin 2 \\pi \\frac{(f_1-f_2)}{2}$$   "
   ]
  },
  {
   "cell_type": "markdown",
   "id": "621f5150-e701-468d-8cb6-d0638f6334c0",
   "metadata": {},
   "source": [
    "Exercise: Prove the above formula and explain how it relates to the beat phenomenon. "
   ]
  },
  {
   "cell_type": "code",
   "execution_count": null,
   "id": "b4c8e3c3-51fa-4a8c-bdde-7b2a17a514e1",
   "metadata": {},
   "outputs": [],
   "source": []
  }
 ],
 "metadata": {
  "kernelspec": {
   "display_name": "Python 3",
   "language": "python",
   "name": "python3"
  },
  "language_info": {
   "codemirror_mode": {
    "name": "ipython",
    "version": 3
   },
   "file_extension": ".py",
   "mimetype": "text/x-python",
   "name": "python",
   "nbconvert_exporter": "python",
   "pygments_lexer": "ipython3",
   "version": "3.8.8"
  }
 },
 "nbformat": 4,
 "nbformat_minor": 5
}
