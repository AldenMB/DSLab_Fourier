{
 "cells": [
  {
   "cell_type": "markdown",
   "id": "bf9228a2-7450-4dca-9ffe-9e6f82753512",
   "metadata": {},
   "source": [
    "# Week 9: Chirps and Bells \n",
    "\n",
    "<font size=\"6\"> Laboratory 8 </font> <br>\n",
    "<font size=\"3\"> Last updated March 5, 2023 </font>"
   ]
  },
  {
   "cell_type": "markdown",
   "id": "e405a758-e539-4f46-bc25-a5bd6a997a39",
   "metadata": {},
   "source": [
    "## <span style=\"color:orange;\"> 00. Content </span>\n",
    "\n",
    "### Mathematics \n",
    "- Laws of sines/cosines\n",
    "    \n",
    "### Programming Skills \n",
    "- Type here\n",
    "    \n",
    "### Embedded Systems \n",
    "- N/A\n",
    "\n",
    "## <span style=\"color:orange;\"> 0. Required Hardware </span>\n",
    "- N/A"
   ]
  },
  {
   "cell_type": "markdown",
   "id": "0d294711-3497-4cfd-bef9-ea4d91638641",
   "metadata": {},
   "source": [
    "<h3 style=\"background-color:lightblue\"> Write your name and email below: </h3>\n",
    "\n",
    "**Name:** me \n",
    "\n",
    "**Email:** me @purdue.edu"
   ]
  },
  {
   "cell_type": "code",
   "execution_count": 7,
   "id": "bcca2f33-8392-4a1b-a882-91dc520607ad",
   "metadata": {},
   "outputs": [],
   "source": [
    "import numpy as np"
   ]
  },
  {
   "cell_type": "markdown",
   "id": "6865af46-07b3-461f-bd67-1a780bf7f597",
   "metadata": {},
   "source": [
    "# <span style=\"color:orange;\"> 1. More on Amplitude Modulation: Bells </span>  "
   ]
  },
  {
   "cell_type": "markdown",
   "id": "bfdcc703-827c-4eae-9105-e9a33ff66dd8",
   "metadata": {},
   "source": [
    "In the last couple of labs, we have explored the modulation of a signal by multiplying it with a periodic signal, such as a sine wave or a triangular wave. We have explored how this changes the sound by listening to it. It was observed that, when the frequency of the carrier is low compared to that of the sound, modulating a sound is perceived as a periodical increase/decrease of the volume of the sound. Mathematically, we say that such modulation modifies the \"envelop\" of the signal. The envelop of a signal represents the maximal/minimal values between which the signal oscillates over time. (Yeah, his is not very precise, but giving a precise mathematical definition would just be sonfusing at this point. -pm) So amplitude modulation, which as the name indicates changes the amplitude of the signal, naturally changes the envelop of the signal. When the carrier value is very small at some point in time, the amplitude of the modulated signal is decreased, thus making the sound less loud at that moment. Conversely, if the carrier value is very large at some point in time, the amplitude of the modulated signal is decreased, thus making the sound louder at that moment. "
   ]
  },
  {
   "cell_type": "markdown",
   "id": "caac3096-f3e7-4f85-afb0-a598737f1f5b",
   "metadata": {},
   "source": [
    "This visualization can inspire some more creative ways to modify a sound. A fun example is created using \"bell envelops\" $ c(t) = e^{-t/\\lambda}$,  $\\lambda >0$, which decays the amplitude of the sound in an interesting fashion. The parameter $\\lambda$ is called the \"time constant\" and controls the speed of the decay: the larger $\\lambda$, the faster the decay. So to recap: when a signal $x(t)$ is modulated by a bell envelop, the modulated signal $y(t)$ is given by\n",
    "\n",
    "$$  y(t)= e^{-t/\\lambda} x(t), \\text{ for some time constant } \\lambda >0. $$"
   ]
  },
  {
   "cell_type": "markdown",
   "id": "7c358f05-35e0-4937-b95c-1cf0b34f80e8",
   "metadata": {},
   "source": [
    "You can probably guess why this is called a bell envelop: because the sounds produced sound like bells. You will now experience this in the next exercise."
   ]
  },
  {
   "cell_type": "markdown",
   "id": "f645687c-f51b-4d8d-b3b7-cdec5f4c4e8b",
   "metadata": {},
   "source": [
    "### <span style=\"color:red\"> Exercise 1 </span>\n",
    "\n",
    "Create a middle C sound that lasts one second. You can use your prefered wave shape (sine, triangular, square, etc.) to first create a middle C. Then modulate your middle C using a bell envelop. Experiment with different values of $\\lambda$ and notice how this affects the final sound. "
   ]
  },
  {
   "cell_type": "code",
   "execution_count": null,
   "id": "481db98a-ea23-47a3-a630-5669c6b70c27",
   "metadata": {},
   "outputs": [],
   "source": []
  },
  {
   "cell_type": "markdown",
   "id": "a2530581-d690-494c-9f14-38377d96b58c",
   "metadata": {},
   "source": [
    "### <span style=\"color:red\"> Exercise 2 </span>"
   ]
  },
  {
   "cell_type": "markdown",
   "id": "fa053806-9ff0-4eac-a57b-6b8cee0a71a1",
   "metadata": {},
   "source": [
    "Pick a value of $\\lambda$, and then create an entire scale of notes that sound like bells. Use your scale to play a short song. (no need to be a fancy song, just do-re-mi-fa-so-la-ti-do is enough, But if you feel creative, go for it!)"
   ]
  },
  {
   "cell_type": "code",
   "execution_count": null,
   "id": "d945905c-b0cf-4c57-adcb-dedc6fb53473",
   "metadata": {},
   "outputs": [],
   "source": []
  },
  {
   "cell_type": "markdown",
   "id": "13cd575b-a4f2-4bae-a9e7-e4d2409e8457",
   "metadata": {},
   "source": [
    "# <span style=\"color:orange;\"> 2. Frequency Modulation: Chirps (linearly swept frequency) </span>  "
   ]
  },
  {
   "cell_type": "markdown",
   "id": "e505325c-be10-46f3-8f4e-5868c5f73f47",
   "metadata": {},
   "source": [
    "We have explored different ways to modulate the amplitude of a signal, i.e. Amplitude Modulation (AM). One can also also modulate the frequency of a signal, i.e. Frequency Modulation (FM). If $x($) is a single sine wave \n",
    "\n",
    "$$ x(t) = C \\cos(2\\pi f_0 t + \\phi) \\text{ for some } C, f_0, \\phi \\in {\\mathbb R} ,$$\n",
    "\n",
    "then, after frequency modulation, the modulated signal $y(t)$ can be written as\n",
    "\n",
    "$$ y(t)= C \\cos( \\psi_{f_0, \\phi} (t) )$$\n",
    "\n",
    "\n",
    "for some  function $\\psi_{f_0, \\phi}(t)$ depending on $f_0$ and $\\phi$ ."
   ]
  },
  {
   "cell_type": "markdown",
   "id": "bfcba786-a6ba-4a82-b20b-0f736c7f23c9",
   "metadata": {},
   "source": [
    "More generally, if $x(t)$ is a periodic signal of the form\n",
    "\n",
    "$$ x(t) = \\sum_{a_k}$$\n",
    "\n",
    "then, "
   ]
  },
  {
   "cell_type": "markdown",
   "id": "dd4bf78d-8589-4a83-a28f-da54c92c2226",
   "metadata": {},
   "source": [
    "Introduce formula for frequecy modulation fo a cosine, special case of linear instantenous frequency(quadratic), listen to it (chirps)"
   ]
  },
  {
   "cell_type": "markdown",
   "id": "36fd67cd-6307-40b0-96d8-e9ef55d5e69e",
   "metadata": {},
   "source": [
    "# <span style=\"color:orange;\"> 3. Putting it all together: Synthesis of Music Instruments </span>  "
   ]
  },
  {
   "cell_type": "markdown",
   "id": "40d049a0-f166-41b2-a787-2b6f5abd81fa",
   "metadata": {},
   "source": [
    "\n",
    "In general the modulation of a signal $x(t)$ can be written as \n",
    "\n",
    "$$y(t)= A(t) x(  ) $$\n",
    "\n",
    "The function A(t) modifies the envelop of x(t), and as we have seen previously, can take on different forms (e.g. periodic signals, or exponential)"
   ]
  },
  {
   "cell_type": "markdown",
   "id": "90180068-a149-48be-92dc-d41184ca2600",
   "metadata": {},
   "source": [
    "# <span style=\"color:orange;\"> 4. Update your synthesizer </span>"
   ]
  },
  {
   "cell_type": "markdown",
   "id": "f4f493b9-5c0e-4dd4-b192-58c89151e5b7",
   "metadata": {},
   "source": [
    "### <span style=\"color:red\"> Exercise 4 </span>"
   ]
  },
  {
   "cell_type": "markdown",
   "id": "852725b0-4efe-4836-90fa-6f9cd8cbebab",
   "metadata": {},
   "source": [
    "Now that you know how create cool sounds, modify the synthesizer you built in Lab 2, and make it play your own unique notes. When you are done, show it to your instructor. "
   ]
  },
  {
   "cell_type": "code",
   "execution_count": null,
   "id": "22e26aae-be14-432e-948b-3037146b8ca4",
   "metadata": {},
   "outputs": [],
   "source": []
  },
  {
   "cell_type": "markdown",
   "id": "44561442-571f-487f-8306-626d7e979b2c",
   "metadata": {
    "tags": []
   },
   "source": [
    "Combine frequency modulation and amplitude modulation: to create bell "
   ]
  },
  {
   "cell_type": "markdown",
   "id": "705cbbc6-8ec1-4ef8-96ed-3da96cc4e549",
   "metadata": {},
   "source": [
    "Note: in lab after FFT, create synthesized instruments and analyze to get coefficients"
   ]
  }
 ],
 "metadata": {
  "kernelspec": {
   "display_name": "Python 3",
   "language": "python",
   "name": "python3"
  },
  "language_info": {
   "codemirror_mode": {
    "name": "ipython",
    "version": 3
   },
   "file_extension": ".py",
   "mimetype": "text/x-python",
   "name": "python",
   "nbconvert_exporter": "python",
   "pygments_lexer": "ipython3",
   "version": "3.8.8"
  }
 },
 "nbformat": 4,
 "nbformat_minor": 5
}
